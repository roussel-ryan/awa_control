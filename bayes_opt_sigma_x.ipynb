{
 "cells": [
  {
   "cell_type": "code",
   "execution_count": 1,
   "id": "377b9ee1",
   "metadata": {},
   "outputs": [
    {
     "name": "stderr",
     "output_type": "stream",
     "text": [
      "INFO:awa_interface:Starting controller_interface\n",
      "INFO:awa_interface:Connecting to AWAPGCamera application\n",
      "INFO:awa_interface:Done\n",
      "INFO:xopt.bayesian.optimize:started running optimization with generator: <xopt.bayesian.generators.generator.BayesianGenerator object at 0x0000026D8D2C5790>\n",
      "INFO:xopt.bayesian.optimize:submitting initial candidates at time 2021-10-19T15:27:56-05:00\n",
      "INFO:awa_interface:taking n samples 5\n",
      "WARNING:observations.image_processing:ROI is clipping the beam envelope\n",
      "WARNING:observations.image_processing:ROI is clipping the beam envelope\n",
      "WARNING:observations.image_processing:ROI is clipping the beam envelope\n",
      "WARNING:observations.image_processing:ROI is clipping the beam envelope\n",
      "WARNING:observations.image_processing:ROI is clipping the beam envelope\n",
      "INFO:awa_interface:taking n samples 5\n",
      "WARNING:observations.image_processing:ROI is clipping the beam envelope\n",
      "WARNING:observations.image_processing:ROI is clipping the beam envelope\n",
      "WARNING:observations.image_processing:ROI is clipping the beam envelope\n",
      "WARNING:observations.image_processing:ROI is clipping the beam envelope\n",
      "WARNING:observations.image_processing:ROI is clipping the beam envelope\n",
      "INFO:awa_interface:taking n samples 5\n",
      "WARNING:observations.image_processing:ROI is clipping the beam envelope\n",
      "WARNING:observations.image_processing:ROI is clipping the beam envelope\n",
      "WARNING:observations.image_processing:ROI is clipping the beam envelope\n",
      "WARNING:observations.image_processing:ROI is clipping the beam envelope\n",
      "WARNING:observations.image_processing:ROI is clipping the beam envelope\n",
      "INFO:awa_interface:taking n samples 5\n",
      "WARNING:observations.image_processing:ROI is clipping the beam envelope\n",
      "WARNING:observations.image_processing:ROI is clipping the beam envelope\n",
      "WARNING:observations.image_processing:ROI is clipping the beam envelope\n",
      "WARNING:observations.image_processing:ROI is clipping the beam envelope\n",
      "WARNING:observations.image_processing:ROI is clipping the beam envelope\n",
      "INFO:awa_interface:taking n samples 5\n",
      "WARNING:observations.image_processing:ROI is clipping the beam envelope\n",
      "WARNING:observations.image_processing:ROI is clipping the beam envelope\n",
      "WARNING:observations.image_processing:ROI is clipping the beam envelope\n",
      "WARNING:observations.image_processing:ROI is clipping the beam envelope\n",
      "WARNING:observations.image_processing:ROI is clipping the beam envelope\n",
      "INFO:xopt.bayesian.optimize:starting optimization loop\n",
      "INFO:xopt.bayesian.optimize:submitting candidates at time 2021-10-19T15:28:58-05:00\n",
      "INFO:awa_interface:taking n samples 5\n",
      "WARNING:observations.image_processing:ROI is clipping the beam envelope\n",
      "INFO:xopt.bayesian.optimize:submitting candidates at time 2021-10-19T15:29:12-05:00\n",
      "INFO:awa_interface:taking n samples 5\n",
      "WARNING:observations.image_processing:ROI is clipping the beam envelope\n",
      "WARNING:observations.image_processing:ROI is clipping the beam envelope\n",
      "WARNING:observations.image_processing:ROI is clipping the beam envelope\n",
      "WARNING:observations.image_processing:ROI is clipping the beam envelope\n",
      "WARNING:observations.image_processing:ROI is clipping the beam envelope\n",
      "INFO:xopt.bayesian.optimize:submitting candidates at time 2021-10-19T15:29:25-05:00\n",
      "INFO:awa_interface:taking n samples 5\n",
      "WARNING:observations.image_processing:ROI is clipping the beam envelope\n",
      "WARNING:observations.image_processing:ROI is clipping the beam envelope\n",
      "INFO:xopt.bayesian.optimize:submitting candidates at time 2021-10-19T15:29:39-05:00\n",
      "INFO:awa_interface:taking n samples 5\n",
      "WARNING:observations.image_processing:ROI is clipping the beam envelope\n",
      "WARNING:observations.image_processing:ROI is clipping the beam envelope\n",
      "INFO:xopt.bayesian.optimize:submitting candidates at time 2021-10-19T15:29:52-05:00\n",
      "INFO:awa_interface:taking n samples 5\n",
      "WARNING:observations.image_processing:ROI is clipping the beam envelope\n",
      "WARNING:observations.image_processing:ROI is clipping the beam envelope\n",
      "WARNING:observations.image_processing:ROI is clipping the beam envelope\n",
      "INFO:xopt.bayesian.optimize:submitting candidates at time 2021-10-19T15:30:06-05:00\n",
      "INFO:awa_interface:taking n samples 5\n",
      "  File \"e:\\awasoftware\\xopt\\xopt\\xopt\\xopt\\bayesian\\utils.py\", line 203, in sampler_evaluate\n",
      "    outputs = evaluate_f(inputs, *eval_args)\n",
      "  File \"C:\\Users\\awa\\AppData\\Local\\Temp/ipykernel_11248/2249413094.py\", line 27, in evaluate_emittance\n",
      "    results = observation.measure_screen()\n",
      "  File \"E:\\AWASoftware\\xopt\\xopt\\awa_control\\observations\\yag_screen.py\", line 142, in measure_screen\n",
      "    outputs = self._get_images(**kwargs)\n",
      "  File \"E:\\AWASoftware\\xopt\\xopt\\awa_control\\observations\\yag_screen.py\", line 96, in _get_images\n",
      "    raw_outputs = self.interface.get_data(self.target_charge,\n",
      "  File \"E:\\AWASoftware\\xopt\\xopt\\awa_control\\awa_interface.py\", line 202, in get_data\n",
      "    roi = self.get_roi()\n",
      "  File \"E:\\AWASoftware\\xopt\\xopt\\awa_control\\awa_interface.py\", line 112, in get_roi\n",
      "    raise ROIError('ROI is not large enough!')\n",
      "WARNING:xopt.bayesian.data:No valid results found, skipping to next iteration\n"
     ]
    },
    {
     "name": "stdout",
     "output_type": "stream",
     "text": [
      "{'Exception': 'ROI is not large enough!', 'Traceback': None}\n"
     ]
    },
    {
     "name": "stderr",
     "output_type": "stream",
     "text": [
      "INFO:xopt.bayesian.optimize:submitting candidates at time 2021-10-19T15:30:08-05:00\n",
      "INFO:awa_interface:taking n samples 5\n",
      "  File \"e:\\awasoftware\\xopt\\xopt\\xopt\\xopt\\bayesian\\utils.py\", line 203, in sampler_evaluate\n",
      "    outputs = evaluate_f(inputs, *eval_args)\n",
      "  File \"C:\\Users\\awa\\AppData\\Local\\Temp/ipykernel_11248/2249413094.py\", line 27, in evaluate_emittance\n",
      "    results = observation.measure_screen()\n",
      "  File \"E:\\AWASoftware\\xopt\\xopt\\awa_control\\observations\\yag_screen.py\", line 142, in measure_screen\n",
      "    outputs = self._get_images(**kwargs)\n",
      "  File \"E:\\AWASoftware\\xopt\\xopt\\awa_control\\observations\\yag_screen.py\", line 96, in _get_images\n",
      "    raw_outputs = self.interface.get_data(self.target_charge,\n",
      "  File \"E:\\AWASoftware\\xopt\\xopt\\awa_control\\awa_interface.py\", line 202, in get_data\n",
      "    roi = self.get_roi()\n",
      "  File \"E:\\AWASoftware\\xopt\\xopt\\awa_control\\awa_interface.py\", line 112, in get_roi\n",
      "    raise ROIError('ROI is not large enough!')\n",
      "WARNING:xopt.bayesian.data:No valid results found, skipping to next iteration\n"
     ]
    },
    {
     "name": "stdout",
     "output_type": "stream",
     "text": [
      "{'Exception': 'ROI is not large enough!', 'Traceback': None}\n"
     ]
    },
    {
     "name": "stderr",
     "output_type": "stream",
     "text": [
      "INFO:xopt.bayesian.optimize:submitting candidates at time 2021-10-19T15:30:11-05:00\n",
      "INFO:awa_interface:taking n samples 5\n",
      "  File \"e:\\awasoftware\\xopt\\xopt\\xopt\\xopt\\bayesian\\utils.py\", line 203, in sampler_evaluate\n",
      "    outputs = evaluate_f(inputs, *eval_args)\n",
      "  File \"C:\\Users\\awa\\AppData\\Local\\Temp/ipykernel_11248/2249413094.py\", line 27, in evaluate_emittance\n",
      "    results = observation.measure_screen()\n",
      "  File \"E:\\AWASoftware\\xopt\\xopt\\awa_control\\observations\\yag_screen.py\", line 142, in measure_screen\n",
      "    outputs = self._get_images(**kwargs)\n",
      "  File \"E:\\AWASoftware\\xopt\\xopt\\awa_control\\observations\\yag_screen.py\", line 96, in _get_images\n",
      "    raw_outputs = self.interface.get_data(self.target_charge,\n",
      "  File \"E:\\AWASoftware\\xopt\\xopt\\awa_control\\awa_interface.py\", line 202, in get_data\n",
      "    roi = self.get_roi()\n",
      "  File \"E:\\AWASoftware\\xopt\\xopt\\awa_control\\awa_interface.py\", line 112, in get_roi\n",
      "    raise ROIError('ROI is not large enough!')\n",
      "WARNING:xopt.bayesian.data:No valid results found, skipping to next iteration\n"
     ]
    },
    {
     "name": "stdout",
     "output_type": "stream",
     "text": [
      "{'Exception': 'ROI is not large enough!', 'Traceback': None}\n"
     ]
    },
    {
     "name": "stderr",
     "output_type": "stream",
     "text": [
      "INFO:xopt.bayesian.optimize:submitting candidates at time 2021-10-19T15:30:13-05:00\n",
      "INFO:awa_interface:taking n samples 5\n",
      "  File \"e:\\awasoftware\\xopt\\xopt\\xopt\\xopt\\bayesian\\utils.py\", line 203, in sampler_evaluate\n",
      "    outputs = evaluate_f(inputs, *eval_args)\n",
      "  File \"C:\\Users\\awa\\AppData\\Local\\Temp/ipykernel_11248/2249413094.py\", line 27, in evaluate_emittance\n",
      "    results = observation.measure_screen()\n",
      "  File \"E:\\AWASoftware\\xopt\\xopt\\awa_control\\observations\\yag_screen.py\", line 142, in measure_screen\n",
      "    outputs = self._get_images(**kwargs)\n",
      "  File \"E:\\AWASoftware\\xopt\\xopt\\awa_control\\observations\\yag_screen.py\", line 96, in _get_images\n",
      "    raw_outputs = self.interface.get_data(self.target_charge,\n",
      "  File \"E:\\AWASoftware\\xopt\\xopt\\awa_control\\awa_interface.py\", line 202, in get_data\n",
      "    roi = self.get_roi()\n",
      "  File \"E:\\AWASoftware\\xopt\\xopt\\awa_control\\awa_interface.py\", line 112, in get_roi\n",
      "    raise ROIError('ROI is not large enough!')\n",
      "WARNING:xopt.bayesian.data:No valid results found, skipping to next iteration\n"
     ]
    },
    {
     "name": "stdout",
     "output_type": "stream",
     "text": [
      "{'Exception': 'ROI is not large enough!', 'Traceback': None}\n"
     ]
    },
    {
     "name": "stderr",
     "output_type": "stream",
     "text": [
      "INFO:xopt.bayesian.optimize:submitting candidates at time 2021-10-19T15:30:16-05:00\n",
      "INFO:awa_interface:taking n samples 5\n",
      "  File \"e:\\awasoftware\\xopt\\xopt\\xopt\\xopt\\bayesian\\utils.py\", line 203, in sampler_evaluate\n",
      "    outputs = evaluate_f(inputs, *eval_args)\n",
      "  File \"C:\\Users\\awa\\AppData\\Local\\Temp/ipykernel_11248/2249413094.py\", line 27, in evaluate_emittance\n",
      "    results = observation.measure_screen()\n",
      "  File \"E:\\AWASoftware\\xopt\\xopt\\awa_control\\observations\\yag_screen.py\", line 142, in measure_screen\n",
      "    outputs = self._get_images(**kwargs)\n",
      "  File \"E:\\AWASoftware\\xopt\\xopt\\awa_control\\observations\\yag_screen.py\", line 96, in _get_images\n",
      "    raw_outputs = self.interface.get_data(self.target_charge,\n",
      "  File \"E:\\AWASoftware\\xopt\\xopt\\awa_control\\awa_interface.py\", line 202, in get_data\n",
      "    roi = self.get_roi()\n",
      "  File \"E:\\AWASoftware\\xopt\\xopt\\awa_control\\awa_interface.py\", line 112, in get_roi\n",
      "    raise ROIError('ROI is not large enough!')\n",
      "WARNING:xopt.bayesian.data:No valid results found, skipping to next iteration\n"
     ]
    },
    {
     "name": "stdout",
     "output_type": "stream",
     "text": [
      "{'Exception': 'ROI is not large enough!', 'Traceback': None}\n"
     ]
    },
    {
     "name": "stderr",
     "output_type": "stream",
     "text": [
      "INFO:xopt.bayesian.optimize:submitting candidates at time 2021-10-19T15:30:18-05:00\n",
      "INFO:awa_interface:taking n samples 5\n",
      "  File \"e:\\awasoftware\\xopt\\xopt\\xopt\\xopt\\bayesian\\utils.py\", line 203, in sampler_evaluate\n",
      "    outputs = evaluate_f(inputs, *eval_args)\n",
      "  File \"C:\\Users\\awa\\AppData\\Local\\Temp/ipykernel_11248/2249413094.py\", line 27, in evaluate_emittance\n",
      "    results = observation.measure_screen()\n",
      "  File \"E:\\AWASoftware\\xopt\\xopt\\awa_control\\observations\\yag_screen.py\", line 142, in measure_screen\n",
      "    outputs = self._get_images(**kwargs)\n",
      "  File \"E:\\AWASoftware\\xopt\\xopt\\awa_control\\observations\\yag_screen.py\", line 96, in _get_images\n",
      "    raw_outputs = self.interface.get_data(self.target_charge,\n",
      "  File \"E:\\AWASoftware\\xopt\\xopt\\awa_control\\awa_interface.py\", line 202, in get_data\n",
      "    roi = self.get_roi()\n",
      "  File \"E:\\AWASoftware\\xopt\\xopt\\awa_control\\awa_interface.py\", line 112, in get_roi\n",
      "    raise ROIError('ROI is not large enough!')\n",
      "WARNING:xopt.bayesian.data:No valid results found, skipping to next iteration\n"
     ]
    },
    {
     "name": "stdout",
     "output_type": "stream",
     "text": [
      "{'Exception': 'ROI is not large enough!', 'Traceback': None}\n"
     ]
    },
    {
     "name": "stderr",
     "output_type": "stream",
     "text": [
      "INFO:xopt.bayesian.optimize:submitting candidates at time 2021-10-19T15:30:21-05:00\n",
      "INFO:awa_interface:taking n samples 5\n",
      "  File \"e:\\awasoftware\\xopt\\xopt\\xopt\\xopt\\bayesian\\utils.py\", line 203, in sampler_evaluate\n",
      "    outputs = evaluate_f(inputs, *eval_args)\n",
      "  File \"C:\\Users\\awa\\AppData\\Local\\Temp/ipykernel_11248/2249413094.py\", line 27, in evaluate_emittance\n",
      "    results = observation.measure_screen()\n",
      "  File \"E:\\AWASoftware\\xopt\\xopt\\awa_control\\observations\\yag_screen.py\", line 142, in measure_screen\n",
      "    outputs = self._get_images(**kwargs)\n",
      "  File \"E:\\AWASoftware\\xopt\\xopt\\awa_control\\observations\\yag_screen.py\", line 96, in _get_images\n",
      "    raw_outputs = self.interface.get_data(self.target_charge,\n",
      "  File \"E:\\AWASoftware\\xopt\\xopt\\awa_control\\awa_interface.py\", line 202, in get_data\n",
      "    roi = self.get_roi()\n",
      "  File \"E:\\AWASoftware\\xopt\\xopt\\awa_control\\awa_interface.py\", line 112, in get_roi\n",
      "    raise ROIError('ROI is not large enough!')\n",
      "WARNING:xopt.bayesian.data:No valid results found, skipping to next iteration\n"
     ]
    },
    {
     "name": "stdout",
     "output_type": "stream",
     "text": [
      "{'Exception': 'ROI is not large enough!', 'Traceback': None}\n"
     ]
    },
    {
     "name": "stderr",
     "output_type": "stream",
     "text": [
      "INFO:xopt.bayesian.optimize:submitting candidates at time 2021-10-19T15:30:23-05:00\n",
      "INFO:awa_interface:taking n samples 5\n",
      "  File \"e:\\awasoftware\\xopt\\xopt\\xopt\\xopt\\bayesian\\utils.py\", line 203, in sampler_evaluate\n",
      "    outputs = evaluate_f(inputs, *eval_args)\n",
      "  File \"C:\\Users\\awa\\AppData\\Local\\Temp/ipykernel_11248/2249413094.py\", line 27, in evaluate_emittance\n",
      "    results = observation.measure_screen()\n",
      "  File \"E:\\AWASoftware\\xopt\\xopt\\awa_control\\observations\\yag_screen.py\", line 142, in measure_screen\n",
      "    outputs = self._get_images(**kwargs)\n",
      "  File \"E:\\AWASoftware\\xopt\\xopt\\awa_control\\observations\\yag_screen.py\", line 96, in _get_images\n",
      "    raw_outputs = self.interface.get_data(self.target_charge,\n",
      "  File \"E:\\AWASoftware\\xopt\\xopt\\awa_control\\awa_interface.py\", line 202, in get_data\n",
      "    roi = self.get_roi()\n",
      "  File \"E:\\AWASoftware\\xopt\\xopt\\awa_control\\awa_interface.py\", line 112, in get_roi\n",
      "    raise ROIError('ROI is not large enough!')\n",
      "WARNING:xopt.bayesian.data:No valid results found, skipping to next iteration\n"
     ]
    },
    {
     "name": "stdout",
     "output_type": "stream",
     "text": [
      "{'Exception': 'ROI is not large enough!', 'Traceback': None}\n"
     ]
    },
    {
     "name": "stderr",
     "output_type": "stream",
     "text": [
      "INFO:xopt.bayesian.optimize:submitting candidates at time 2021-10-19T15:30:26-05:00\n",
      "INFO:awa_interface:taking n samples 5\n",
      "  File \"e:\\awasoftware\\xopt\\xopt\\xopt\\xopt\\bayesian\\utils.py\", line 203, in sampler_evaluate\n",
      "    outputs = evaluate_f(inputs, *eval_args)\n",
      "  File \"C:\\Users\\awa\\AppData\\Local\\Temp/ipykernel_11248/2249413094.py\", line 27, in evaluate_emittance\n",
      "    results = observation.measure_screen()\n",
      "  File \"E:\\AWASoftware\\xopt\\xopt\\awa_control\\observations\\yag_screen.py\", line 142, in measure_screen\n",
      "    outputs = self._get_images(**kwargs)\n",
      "  File \"E:\\AWASoftware\\xopt\\xopt\\awa_control\\observations\\yag_screen.py\", line 96, in _get_images\n",
      "    raw_outputs = self.interface.get_data(self.target_charge,\n",
      "  File \"E:\\AWASoftware\\xopt\\xopt\\awa_control\\awa_interface.py\", line 202, in get_data\n",
      "    roi = self.get_roi()\n",
      "  File \"E:\\AWASoftware\\xopt\\xopt\\awa_control\\awa_interface.py\", line 112, in get_roi\n",
      "    raise ROIError('ROI is not large enough!')\n",
      "WARNING:xopt.bayesian.data:No valid results found, skipping to next iteration\n"
     ]
    },
    {
     "name": "stdout",
     "output_type": "stream",
     "text": [
      "{'Exception': 'ROI is not large enough!', 'Traceback': None}\n"
     ]
    },
    {
     "name": "stderr",
     "output_type": "stream",
     "text": [
      "INFO:xopt.bayesian.optimize:submitting candidates at time 2021-10-19T15:30:28-05:00\n"
     ]
    },
    {
     "ename": "KeyboardInterrupt",
     "evalue": "",
     "output_type": "error",
     "traceback": [
      "\u001b[1;31m---------------------------------------------------------------------------\u001b[0m",
      "\u001b[1;31mKeyboardInterrupt\u001b[0m                         Traceback (most recent call last)",
      "\u001b[1;32m~\\AppData\\Local\\Temp/ipykernel_11248/2249413094.py\u001b[0m in \u001b[0;36m<module>\u001b[1;34m\u001b[0m\n\u001b[0;32m     65\u001b[0m \u001b[0mawa_interface\u001b[0m \u001b[1;33m=\u001b[0m \u001b[0mawa_interface\u001b[0m\u001b[1;33m.\u001b[0m\u001b[0mAWAInterface\u001b[0m\u001b[1;33m(\u001b[0m\u001b[0muse_frame_grabber\u001b[0m\u001b[1;33m=\u001b[0m\u001b[1;32mFalse\u001b[0m\u001b[1;33m,\u001b[0m \u001b[0mtesting\u001b[0m\u001b[1;33m=\u001b[0m\u001b[1;32mFalse\u001b[0m\u001b[1;33m)\u001b[0m\u001b[1;33m\u001b[0m\u001b[1;33m\u001b[0m\u001b[0m\n\u001b[0;32m     66\u001b[0m \u001b[0mevaluator\u001b[0m \u001b[1;33m=\u001b[0m \u001b[0mEvaluator\u001b[0m\u001b[1;33m(\u001b[0m\u001b[0mawa_interface\u001b[0m\u001b[1;33m)\u001b[0m\u001b[1;33m\u001b[0m\u001b[1;33m\u001b[0m\u001b[0m\n\u001b[1;32m---> 67\u001b[1;33m opt_results = bayesian_optimize(VOCS,\n\u001b[0m\u001b[0;32m     68\u001b[0m                                    \u001b[0mevaluator\u001b[0m\u001b[1;33m.\u001b[0m\u001b[0mevaluate_emittance\u001b[0m\u001b[1;33m,\u001b[0m\u001b[1;33m\u001b[0m\u001b[1;33m\u001b[0m\u001b[0m\n\u001b[0;32m     69\u001b[0m                                    \u001b[0mn_initial_samples\u001b[0m\u001b[1;33m=\u001b[0m\u001b[1;36m5\u001b[0m\u001b[1;33m,\u001b[0m\u001b[1;33m\u001b[0m\u001b[1;33m\u001b[0m\u001b[0m\n",
      "\u001b[1;32me:\\awasoftware\\xopt\\xopt\\xopt\\xopt\\bayesian\\algorithms.py\u001b[0m in \u001b[0;36mbayesian_optimize\u001b[1;34m(vocs, evaluate_f, n_steps, n_initial_samples, output_path, custom_model, executor, restart_file, initial_x, verbose, generator_options)\u001b[0m\n\u001b[0;32m     69\u001b[0m                                                        \u001b[0macq_func\u001b[0m\u001b[1;33m,\u001b[0m\u001b[1;33m\u001b[0m\u001b[1;33m\u001b[0m\u001b[0m\n\u001b[0;32m     70\u001b[0m                                                        **generator_options)\n\u001b[1;32m---> 71\u001b[1;33m     return optimize(vocs,\n\u001b[0m\u001b[0;32m     72\u001b[0m                     \u001b[0mevaluate_f\u001b[0m\u001b[1;33m,\u001b[0m\u001b[1;33m\u001b[0m\u001b[1;33m\u001b[0m\u001b[0m\n\u001b[0;32m     73\u001b[0m                     \u001b[0mgenerator\u001b[0m\u001b[1;33m,\u001b[0m\u001b[1;33m\u001b[0m\u001b[1;33m\u001b[0m\u001b[0m\n",
      "\u001b[1;32me:\\awasoftware\\xopt\\xopt\\xopt\\xopt\\bayesian\\optimize.py\u001b[0m in \u001b[0;36moptimize\u001b[1;34m(vocs, evaluate_f, candidate_generator, n_steps, n_initial_samples, output_path, custom_model, executor, restart_file, initial_x, verbose, tkwargs)\u001b[0m\n\u001b[0;32m    170\u001b[0m                                 sampler_evaluate_args)\n\u001b[0;32m    171\u001b[0m         \u001b[0mlogger\u001b[0m\u001b[1;33m.\u001b[0m\u001b[0mdebug\u001b[0m\u001b[1;33m(\u001b[0m\u001b[1;34m'gathering and saving data'\u001b[0m\u001b[1;33m)\u001b[0m\u001b[1;33m\u001b[0m\u001b[1;33m\u001b[0m\u001b[0m\n\u001b[1;32m--> 172\u001b[1;33m         data = gather_and_save_training_data(list(fut),\n\u001b[0m\u001b[0;32m    173\u001b[0m                                              \u001b[0mvocs\u001b[0m\u001b[1;33m,\u001b[0m\u001b[1;33m\u001b[0m\u001b[1;33m\u001b[0m\u001b[0m\n\u001b[0;32m    174\u001b[0m                                              \u001b[0mtkwargs\u001b[0m\u001b[1;33m,\u001b[0m\u001b[1;33m\u001b[0m\u001b[1;33m\u001b[0m\u001b[0m\n",
      "\u001b[1;32me:\\awasoftware\\xopt\\xopt\\xopt\\xopt\\bayesian\\data.py\u001b[0m in \u001b[0;36mgather_and_save_training_data\u001b[1;34m(futures, vocs, tkwargs, train_x, train_y, train_c, inputs, outputs, output_path)\u001b[0m\n\u001b[0;32m     34\u001b[0m \u001b[1;33m\u001b[0m\u001b[0m\n\u001b[0;32m     35\u001b[0m     \u001b[1;32mtry\u001b[0m\u001b[1;33m:\u001b[0m\u001b[1;33m\u001b[0m\u001b[1;33m\u001b[0m\u001b[0m\n\u001b[1;32m---> 36\u001b[1;33m         new_x, new_y, new_c, new_inputs, new_outputs = collect_results(futures,\n\u001b[0m\u001b[0;32m     37\u001b[0m                                                                        \u001b[0mvocs\u001b[0m\u001b[1;33m,\u001b[0m\u001b[1;33m\u001b[0m\u001b[1;33m\u001b[0m\u001b[0m\n\u001b[0;32m     38\u001b[0m                                                                        **tkwargs)\n",
      "\u001b[1;32me:\\awasoftware\\xopt\\xopt\\xopt\\xopt\\bayesian\\utils.py\u001b[0m in \u001b[0;36mcollect_results\u001b[1;34m(futures, vocs, **tkwargs)\u001b[0m\n\u001b[0;32m    259\u001b[0m \u001b[1;33m\u001b[0m\u001b[0m\n\u001b[0;32m    260\u001b[0m     \u001b[0mat_least_one_point\u001b[0m \u001b[1;33m=\u001b[0m \u001b[1;32mFalse\u001b[0m\u001b[1;33m\u001b[0m\u001b[1;33m\u001b[0m\u001b[0m\n\u001b[1;32m--> 261\u001b[1;33m     \u001b[0mresults\u001b[0m \u001b[1;33m=\u001b[0m \u001b[0mget_results\u001b[0m\u001b[1;33m(\u001b[0m\u001b[0mfutures\u001b[0m\u001b[1;33m)\u001b[0m\u001b[1;33m\u001b[0m\u001b[1;33m\u001b[0m\u001b[0m\n\u001b[0m\u001b[0;32m    262\u001b[0m \u001b[1;33m\u001b[0m\u001b[0m\n\u001b[0;32m    263\u001b[0m     \u001b[1;32mfor\u001b[0m \u001b[0mresult\u001b[0m \u001b[1;32min\u001b[0m \u001b[0mresults\u001b[0m\u001b[1;33m:\u001b[0m\u001b[1;33m\u001b[0m\u001b[1;33m\u001b[0m\u001b[0m\n",
      "\u001b[1;32me:\\awasoftware\\xopt\\xopt\\xopt\\xopt\\bayesian\\utils.py\u001b[0m in \u001b[0;36mget_results\u001b[1;34m(futures)\u001b[0m\n\u001b[0;32m    233\u001b[0m             \u001b[0mfut\u001b[0m \u001b[1;33m=\u001b[0m \u001b[0mfutures\u001b[0m\u001b[1;33m[\u001b[0m\u001b[1;36m0\u001b[0m\u001b[1;33m]\u001b[0m\u001b[1;33m\u001b[0m\u001b[1;33m\u001b[0m\u001b[0m\n\u001b[0;32m    234\u001b[0m             \u001b[1;32mif\u001b[0m \u001b[0mfut\u001b[0m\u001b[1;33m.\u001b[0m\u001b[0mdone\u001b[0m\u001b[1;33m(\u001b[0m\u001b[1;33m)\u001b[0m\u001b[1;33m:\u001b[0m\u001b[1;33m\u001b[0m\u001b[1;33m\u001b[0m\u001b[0m\n\u001b[1;32m--> 235\u001b[1;33m                 \u001b[0mresults\u001b[0m\u001b[1;33m.\u001b[0m\u001b[0mappend\u001b[0m\u001b[1;33m(\u001b[0m\u001b[0mfut\u001b[0m\u001b[1;33m.\u001b[0m\u001b[0mresult\u001b[0m\u001b[1;33m(\u001b[0m\u001b[1;33m)\u001b[0m\u001b[1;33m)\u001b[0m\u001b[1;33m\u001b[0m\u001b[1;33m\u001b[0m\u001b[0m\n\u001b[0m\u001b[0;32m    236\u001b[0m                 \u001b[1;32mdel\u001b[0m \u001b[0mfutures\u001b[0m\u001b[1;33m[\u001b[0m\u001b[1;36m0\u001b[0m\u001b[1;33m]\u001b[0m\u001b[1;33m\u001b[0m\u001b[1;33m\u001b[0m\u001b[0m\n\u001b[0;32m    237\u001b[0m \u001b[1;33m\u001b[0m\u001b[0m\n",
      "\u001b[1;32m~\\.conda\\envs\\xopt\\lib\\concurrent\\futures\\_base.py\u001b[0m in \u001b[0;36mresult\u001b[1;34m(self, timeout)\u001b[0m\n\u001b[0;32m    436\u001b[0m                     \u001b[1;32mraise\u001b[0m \u001b[0mCancelledError\u001b[0m\u001b[1;33m(\u001b[0m\u001b[1;33m)\u001b[0m\u001b[1;33m\u001b[0m\u001b[1;33m\u001b[0m\u001b[0m\n\u001b[0;32m    437\u001b[0m                 \u001b[1;32melif\u001b[0m \u001b[0mself\u001b[0m\u001b[1;33m.\u001b[0m\u001b[0m_state\u001b[0m \u001b[1;33m==\u001b[0m \u001b[0mFINISHED\u001b[0m\u001b[1;33m:\u001b[0m\u001b[1;33m\u001b[0m\u001b[1;33m\u001b[0m\u001b[0m\n\u001b[1;32m--> 438\u001b[1;33m                     \u001b[1;32mreturn\u001b[0m \u001b[0mself\u001b[0m\u001b[1;33m.\u001b[0m\u001b[0m__get_result\u001b[0m\u001b[1;33m(\u001b[0m\u001b[1;33m)\u001b[0m\u001b[1;33m\u001b[0m\u001b[1;33m\u001b[0m\u001b[0m\n\u001b[0m\u001b[0;32m    439\u001b[0m \u001b[1;33m\u001b[0m\u001b[0m\n\u001b[0;32m    440\u001b[0m                 \u001b[0mself\u001b[0m\u001b[1;33m.\u001b[0m\u001b[0m_condition\u001b[0m\u001b[1;33m.\u001b[0m\u001b[0mwait\u001b[0m\u001b[1;33m(\u001b[0m\u001b[0mtimeout\u001b[0m\u001b[1;33m)\u001b[0m\u001b[1;33m\u001b[0m\u001b[1;33m\u001b[0m\u001b[0m\n",
      "\u001b[1;32m~\\.conda\\envs\\xopt\\lib\\concurrent\\futures\\_base.py\u001b[0m in \u001b[0;36m__get_result\u001b[1;34m(self)\u001b[0m\n\u001b[0;32m    388\u001b[0m         \u001b[1;32mif\u001b[0m \u001b[0mself\u001b[0m\u001b[1;33m.\u001b[0m\u001b[0m_exception\u001b[0m\u001b[1;33m:\u001b[0m\u001b[1;33m\u001b[0m\u001b[1;33m\u001b[0m\u001b[0m\n\u001b[0;32m    389\u001b[0m             \u001b[1;32mtry\u001b[0m\u001b[1;33m:\u001b[0m\u001b[1;33m\u001b[0m\u001b[1;33m\u001b[0m\u001b[0m\n\u001b[1;32m--> 390\u001b[1;33m                 \u001b[1;32mraise\u001b[0m \u001b[0mself\u001b[0m\u001b[1;33m.\u001b[0m\u001b[0m_exception\u001b[0m\u001b[1;33m\u001b[0m\u001b[1;33m\u001b[0m\u001b[0m\n\u001b[0m\u001b[0;32m    391\u001b[0m             \u001b[1;32mfinally\u001b[0m\u001b[1;33m:\u001b[0m\u001b[1;33m\u001b[0m\u001b[1;33m\u001b[0m\u001b[0m\n\u001b[0;32m    392\u001b[0m                 \u001b[1;31m# Break a reference cycle with the exception in self._exception\u001b[0m\u001b[1;33m\u001b[0m\u001b[1;33m\u001b[0m\u001b[0m\n",
      "\u001b[1;32me:\\awasoftware\\xopt\\xopt\\xopt\\xopt\\tools.py\u001b[0m in \u001b[0;36msubmit\u001b[1;34m(self, fn, *args, **kwargs)\u001b[0m\n\u001b[0;32m    471\u001b[0m             \u001b[0mf\u001b[0m \u001b[1;33m=\u001b[0m \u001b[0mFuture\u001b[0m\u001b[1;33m(\u001b[0m\u001b[1;33m)\u001b[0m\u001b[1;33m\u001b[0m\u001b[1;33m\u001b[0m\u001b[0m\n\u001b[0;32m    472\u001b[0m             \u001b[1;32mtry\u001b[0m\u001b[1;33m:\u001b[0m\u001b[1;33m\u001b[0m\u001b[1;33m\u001b[0m\u001b[0m\n\u001b[1;32m--> 473\u001b[1;33m                 \u001b[0mresult\u001b[0m \u001b[1;33m=\u001b[0m \u001b[0mfn\u001b[0m\u001b[1;33m(\u001b[0m\u001b[1;33m*\u001b[0m\u001b[0margs\u001b[0m\u001b[1;33m,\u001b[0m \u001b[1;33m**\u001b[0m\u001b[0mkwargs\u001b[0m\u001b[1;33m)\u001b[0m\u001b[1;33m\u001b[0m\u001b[1;33m\u001b[0m\u001b[0m\n\u001b[0m\u001b[0;32m    474\u001b[0m             \u001b[1;32mexcept\u001b[0m \u001b[0mBaseException\u001b[0m \u001b[1;32mas\u001b[0m \u001b[0me\u001b[0m\u001b[1;33m:\u001b[0m\u001b[1;33m\u001b[0m\u001b[1;33m\u001b[0m\u001b[0m\n\u001b[0;32m    475\u001b[0m                 \u001b[0mf\u001b[0m\u001b[1;33m.\u001b[0m\u001b[0mset_exception\u001b[0m\u001b[1;33m(\u001b[0m\u001b[0me\u001b[0m\u001b[1;33m)\u001b[0m\u001b[1;33m\u001b[0m\u001b[1;33m\u001b[0m\u001b[0m\n",
      "\u001b[1;32me:\\awasoftware\\xopt\\xopt\\xopt\\xopt\\bayesian\\utils.py\u001b[0m in \u001b[0;36msampler_evaluate\u001b[1;34m(inputs, evaluate_f, verbose, *eval_args)\u001b[0m\n\u001b[0;32m    201\u001b[0m     \u001b[0merr\u001b[0m \u001b[1;33m=\u001b[0m \u001b[1;32mFalse\u001b[0m\u001b[1;33m\u001b[0m\u001b[1;33m\u001b[0m\u001b[0m\n\u001b[0;32m    202\u001b[0m     \u001b[1;32mtry\u001b[0m\u001b[1;33m:\u001b[0m\u001b[1;33m\u001b[0m\u001b[1;33m\u001b[0m\u001b[0m\n\u001b[1;32m--> 203\u001b[1;33m         \u001b[0moutputs\u001b[0m \u001b[1;33m=\u001b[0m \u001b[0mevaluate_f\u001b[0m\u001b[1;33m(\u001b[0m\u001b[0minputs\u001b[0m\u001b[1;33m,\u001b[0m \u001b[1;33m*\u001b[0m\u001b[0meval_args\u001b[0m\u001b[1;33m)\u001b[0m\u001b[1;33m\u001b[0m\u001b[1;33m\u001b[0m\u001b[0m\n\u001b[0m\u001b[0;32m    204\u001b[0m \u001b[1;33m\u001b[0m\u001b[0m\n\u001b[0;32m    205\u001b[0m     \u001b[1;32mexcept\u001b[0m \u001b[0mException\u001b[0m \u001b[1;32mas\u001b[0m \u001b[0mex\u001b[0m\u001b[1;33m:\u001b[0m\u001b[1;33m\u001b[0m\u001b[1;33m\u001b[0m\u001b[0m\n",
      "\u001b[1;32m~\\AppData\\Local\\Temp/ipykernel_11248/2249413094.py\u001b[0m in \u001b[0;36mevaluate_emittance\u001b[1;34m(self, inputs)\u001b[0m\n\u001b[0;32m     19\u001b[0m         \u001b[0mself\u001b[0m\u001b[1;33m.\u001b[0m\u001b[0minterface\u001b[0m\u001b[1;33m.\u001b[0m\u001b[0mset_parameters\u001b[0m\u001b[1;33m(\u001b[0m\u001b[0minputs\u001b[0m\u001b[1;33m)\u001b[0m\u001b[1;33m\u001b[0m\u001b[1;33m\u001b[0m\u001b[0m\n\u001b[0;32m     20\u001b[0m \u001b[1;33m\u001b[0m\u001b[0m\n\u001b[1;32m---> 21\u001b[1;33m         \u001b[0mtime\u001b[0m\u001b[1;33m.\u001b[0m\u001b[0msleep\u001b[0m\u001b[1;33m(\u001b[0m\u001b[1;36m1.0\u001b[0m\u001b[1;33m)\u001b[0m\u001b[1;33m\u001b[0m\u001b[1;33m\u001b[0m\u001b[0m\n\u001b[0m\u001b[0;32m     22\u001b[0m \u001b[1;33m\u001b[0m\u001b[0m\n\u001b[0;32m     23\u001b[0m         observation = YAGScreen(self.interface,\n",
      "\u001b[1;31mKeyboardInterrupt\u001b[0m: "
     ]
    }
   ],
   "source": [
    "import logging\n",
    "logging.basicConfig(level=logging.INFO)\n",
    "import numpy as np\n",
    "import time\n",
    "import awa_interface\n",
    "from observations.yag_screen import YAGScreen\n",
    "from xopt.bayesian.algorithms import bayesian_optimize\n",
    "\n",
    "from botorch.acquisition.analytic import UpperConfidenceBound\n",
    "\n",
    "def acq(model):\n",
    "    return UpperConfidenceBound(model, beta=2.0)\n",
    "\n",
    "class Evaluator:\n",
    "    def __init__(self, interface):\n",
    "        self.interface = interface\n",
    "\n",
    "    def evaluate_emittance(self, inputs):\n",
    "        self.interface.set_parameters(inputs)\n",
    "\n",
    "        time.sleep(1.0)\n",
    "\n",
    "        observation = YAGScreen(self.interface,\n",
    "                                n_samples=5,\n",
    "                                average_measurements=True)\n",
    "\n",
    "        results = observation.measure_screen()\n",
    "        logging.debug('done analyzing images')\n",
    "        \n",
    "        #remove a bunch of excess info\n",
    "        pop_args = ['ellipses', 'processed_images', 'raw_images']\n",
    "        for ele in pop_args:\n",
    "            results.pop(ele)\n",
    "        results['total_rms'] = np.sqrt(results['rms_x']**2 + results['rms_y']**2)\n",
    "        return results\n",
    "\n",
    "\n",
    "VOCS = {\n",
    "    'name': 'AWA_Opt',\n",
    "\n",
    "    'variables': {\n",
    "        #'Drive:Ctrl:DS1': [6.05, 9.07],  # Focusing Solenoid\n",
    "        #'Drive:Ctrl:DS3': [0.0, 2.5],  # Matching Solenoid\n",
    "        #'SMCtrl:AWA:abs03': [-640, 640],  # Linac Phase\n",
    "        'AWA:Bira3Ctrl:Ch03': [-0.0, 5.0],  # DQ4\n",
    "        'AWA:Bira3Ctrl:Ch04': [-0.0, 5.0],  # DQ5\n",
    "        'AWA:Bira3Ctrl:Ch05': [-5.0, 5.0],  # DQ6\n",
    "\n",
    "    },\n",
    "\n",
    "    'objectives': {\n",
    "        'total_rms': 'MINIMIZE',\n",
    "    },\n",
    "\n",
    "    'constraints': {\n",
    "        #'rms_x': ['LESS_THAN', 150],\n",
    "        #'rms_y': ['LESS_THAN', 150],\n",
    "        #'centroid_offset': ['LESS_THAN', 500],\n",
    "\n",
    "    },\n",
    "    'constants': {'AWA:Bira3Ctrl:Ch06': 5.0}\n",
    "\n",
    "}\n",
    "\n",
    "awa_interface = awa_interface.AWAInterface(use_frame_grabber=False, testing=False)\n",
    "evaluator = Evaluator(awa_interface)\n",
    "opt_results = bayesian_optimize(VOCS,\n",
    "                                   evaluator.evaluate_emittance,\n",
    "                                   n_initial_samples=5,\n",
    "                                   n_steps=50,\n",
    "                               generator_options= {'acquisition_function':acq})\n"
   ]
  },
  {
   "cell_type": "code",
   "execution_count": null,
   "id": "4e95da7a",
   "metadata": {},
   "outputs": [],
   "source": [
    "print(opt_results)"
   ]
  },
  {
   "cell_type": "code",
   "execution_count": null,
   "id": "ec0a2f3e",
   "metadata": {},
   "outputs": [],
   "source": [
    "X = opt_results['variables'][-3]\n",
    "X_in = dict(zip(VOCS['variables'], X))\n",
    "print(X_in)\n",
    "res = evaluator.evaluate_emittance(X_in)\n",
    "print(res['rms_x'])\n",
    "print(res['rms_y'])\n",
    "print(res['centroid_offset'])\n",
    "print(res['n_blobs'])"
   ]
  },
  {
   "cell_type": "code",
   "execution_count": null,
   "id": "85710b1c",
   "metadata": {},
   "outputs": [],
   "source": [
    "print(res.keys())\n",
    "print(res['charge'])"
   ]
  },
  {
   "cell_type": "code",
   "execution_count": null,
   "id": "ce6b307d",
   "metadata": {},
   "outputs": [],
   "source": []
  }
 ],
 "metadata": {
  "kernelspec": {
   "display_name": "xopt",
   "language": "python",
   "name": "xopt"
  },
  "language_info": {
   "codemirror_mode": {
    "name": "ipython",
    "version": 3
   },
   "file_extension": ".py",
   "mimetype": "text/x-python",
   "name": "python",
   "nbconvert_exporter": "python",
   "pygments_lexer": "ipython3",
   "version": "3.9.7"
  }
 },
 "nbformat": 4,
 "nbformat_minor": 5
}
