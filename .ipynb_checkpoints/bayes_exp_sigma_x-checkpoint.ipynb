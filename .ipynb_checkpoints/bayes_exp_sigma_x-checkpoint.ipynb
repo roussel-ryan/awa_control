{
 "cells": [
  {
   "cell_type": "code",
   "execution_count": null,
   "id": "377b9ee1",
   "metadata": {},
   "outputs": [
    {
     "name": "stderr",
     "output_type": "stream",
     "text": [
      "INFO:awa_interface:Starting controller_interface\n",
      "INFO:awa_interface:Connecting to AWAPGCamera application\n",
      "INFO:awa_interface:Done\n",
      "INFO:xopt.bayesian.optimize:started running optimization with generator: <xopt.bayesian.generators.exploration.BayesianExplorationGenerator object at 0x00000132C6528250>\n",
      "INFO:xopt.bayesian.optimize:submitting initial candidates at time 2021-09-21T16:21:27-05:00\n",
      "INFO:awa_interface:taking n samples 5\n",
      "WARNING:observations.image_processing:ROI is clipping the beam envelope\n",
      "WARNING:observations.image_processing:ROI is clipping the beam envelope\n",
      "WARNING:observations.image_processing:ROI is clipping the beam envelope\n",
      "WARNING:observations.image_processing:ROI is clipping the beam envelope\n",
      "WARNING:observations.image_processing:ROI is clipping the beam envelope\n",
      "E:\\AWASoftware\\xopt\\xopt\\awa_control\\observations\\yag_screen.py:125: VisibleDeprecationWarning: Creating an ndarray from ragged nested sequences (which is a list-or-tuple of lists-or-tuples-or ndarrays with different lengths or shapes) is deprecated. If you meant to do this, you must specify 'dtype=object' when creating the ndarray.\n",
      "  outputs[ele] = np.array(outputs[ele])\n",
      "INFO:awa_interface:taking n samples 5\n",
      "WARNING:observations.image_processing:ROI is clipping the beam envelope\n",
      "WARNING:observations.image_processing:ROI is clipping the beam envelope\n",
      "WARNING:observations.image_processing:ROI is clipping the beam envelope\n",
      "WARNING:observations.image_processing:ROI is clipping the beam envelope\n",
      "WARNING:observations.image_processing:ROI is clipping the beam envelope\n",
      "INFO:xopt.bayesian.optimize:starting optimization loop\n"
     ]
    }
   ],
   "source": [
    "import logging\n",
    "logging.basicConfig(level=logging.INFO)\n",
    "\n",
    "import time\n",
    "import awa_interface\n",
    "from observations.yag_screen import YAGScreen\n",
    "from xopt.bayesian.algorithms import bayesian_exploration\n",
    "\n",
    "\n",
    "\n",
    "class Evaluator:\n",
    "    def __init__(self, interface):\n",
    "        self.interface = interface\n",
    "\n",
    "    def evaluate_emittance(self, inputs):\n",
    "        self.interface.set_parameters(inputs)\n",
    "\n",
    "        time.sleep(1.0)\n",
    "\n",
    "        observation = YAGScreen(self.interface,\n",
    "                                n_samples=5,\n",
    "                                average_measurements=True)\n",
    "\n",
    "        results = observation.measure_screen()\n",
    "        logging.debug('done analyzing images')\n",
    "        \n",
    "        #remove a bunch of excess info\n",
    "        pop_args = ['ellipses', 'processed_images', 'raw_images']\n",
    "        for ele in pop_args:\n",
    "            results.pop(ele)\n",
    "        return results\n",
    "\n",
    "\n",
    "VOCS = {\n",
    "    'name': 'AWA_Exp',\n",
    "\n",
    "    'variables': {\n",
    "        'Drive:Ctrl:DS1': [6.05, 9.07],  # Focusing Solenoid\n",
    "        'Drive:Ctrl:DS3': [0.0, 2.5],  # Matching Solenoid\n",
    "        #'SMCtrl:AWA:abs03': [-640, 640],  # Linac Phase\n",
    "        'AWA:Bira3Ctrl:Ch03': [-0.5, 0.5],  # DQ4\n",
    "        'AWA:Bira3Ctrl:Ch04': [-0.5, 0.5],  # DQ5\n",
    "        'AWA:Bira3Ctrl:Ch05': [-0.5, 0.5],  # DQ6\n",
    "\n",
    "    },\n",
    "\n",
    "    'objectives': {\n",
    "        'rms_x': None,\n",
    "    },\n",
    "\n",
    "    'constraints': {\n",
    "        'rms_x': ['LESS_THAN', 150],\n",
    "        'rms_y': ['LESS_THAN', 150],\n",
    "        'centroid_offset': ['LESS_THAN', 500],\n",
    "        'n_blobs': ['GREATER_THAN', 3]\n",
    "\n",
    "    },\n",
    "    'constants': {}\n",
    "\n",
    "}\n",
    "\n",
    "awa_interface = awa_interface.AWAInterface(use_frame_grabber=False, testing=False)\n",
    "evaluator = Evaluator(awa_interface)\n",
    "opt_results = bayesian_exploration(VOCS,\n",
    "                                   evaluator.evaluate_emittance,\n",
    "                                   n_initial_samples=10,\n",
    "                                   n_steps=100)\n"
   ]
  },
  {
   "cell_type": "code",
   "execution_count": null,
   "id": "4e95da7a",
   "metadata": {},
   "outputs": [],
   "source": [
    "print(opt_results)"
   ]
  },
  {
   "cell_type": "code",
   "execution_count": null,
   "id": "ec0a2f3e",
   "metadata": {},
   "outputs": [],
   "source": [
    "X = opt_results['variables'][-8]\n",
    "X_in = dict(zip(VOCS['variables'], X))\n",
    "res = evaluator.evaluate_emittance(X_in)\n",
    "print(res['rms_x'])\n",
    "print(res['rms_y'])\n",
    "print(res['centroid_offset'])\n",
    "print(res['n_blobs'])"
   ]
  },
  {
   "cell_type": "code",
   "execution_count": null,
   "id": "85710b1c",
   "metadata": {},
   "outputs": [],
   "source": [
    "print(res.keys())\n",
    "print(res['charge'])"
   ]
  },
  {
   "cell_type": "code",
   "execution_count": null,
   "id": "ce6b307d",
   "metadata": {},
   "outputs": [],
   "source": []
  }
 ],
 "metadata": {
  "kernelspec": {
   "display_name": "xopt",
   "language": "python",
   "name": "xopt"
  },
  "language_info": {
   "codemirror_mode": {
    "name": "ipython",
    "version": 3
   },
   "file_extension": ".py",
   "mimetype": "text/x-python",
   "name": "python",
   "nbconvert_exporter": "python",
   "pygments_lexer": "ipython3",
   "version": "3.9.7"
  }
 },
 "nbformat": 4,
 "nbformat_minor": 5
}
