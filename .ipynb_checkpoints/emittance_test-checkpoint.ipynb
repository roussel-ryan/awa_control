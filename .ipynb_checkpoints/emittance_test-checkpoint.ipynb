{
 "cells": [
  {
   "cell_type": "code",
   "execution_count": 1,
   "id": "9b186d71",
   "metadata": {},
   "outputs": [],
   "source": [
    "# test emittance measurement\n",
    "\n",
    "import time\n",
    "import awa_interface\n",
    "from observations.yag_screen import YAGScreen\n",
    "from observations.emittance import Emittance\n",
    "from xopt.bayesian.algorithms import bayesian_exploration\n",
    "\n",
    "\n",
    "import logging\n",
    "logging.basicConfig(level=logging.DEBUG)\n",
    "logging.getLogger('matplotlib').setLevel(logging.WARNING)\n",
    "\n",
    "class Evaluator:\n",
    "    def __init__(self, interface):\n",
    "        self.interface = interface\n",
    "\n",
    "    def evaluate_emittance(self):\n",
    "        #self.interface.set_parameters(inputs)\n",
    "\n",
    "        time.sleep(1.0)\n",
    "\n",
    "        observation = Emittance(self.interface,\n",
    "                                50e-3 / 1158,\n",
    "                                0.002,\n",
    "                                2.5,\n",
    "                                n_samples=5,\n",
    "                                average_measurements=False)\n",
    "\n",
    "        results = observation.measure_emittance(min_size=100, min_intensity=15.0, verbose=True)\n",
    "        pop_args = ['ellipses', 'processed_images', 'raw_images']\n",
    "        for ele in pop_args:\n",
    "            results.pop(ele)\n",
    "        return results\n",
    "    "
   ]
  },
  {
   "cell_type": "code",
   "execution_count": 2,
   "id": "16a7a9ef",
   "metadata": {},
   "outputs": [
    {
     "name": "stderr",
     "output_type": "stream",
     "text": [
      "INFO:awa_interface:Starting controller_interface\n",
      "INFO:awa_interface:Connecting to AWAPGCamera application\n",
      "INFO:awa_interface:Done\n",
      "INFO:awa_interface:taking n samples 5\n"
     ]
    },
    {
     "name": "stdout",
     "output_type": "stream",
     "text": [
      "[ 0.58121331  3.01663405 11.87377691  2.08219178  0.73189824  5.28180039\n",
      "  5.83170254 13.08610568  0.65068493  9.7739726   0.67221135  1.00880626\n",
      "  4.82387476 32.97260274  2.98434442  5.22407045 10.21917808  3.67221135\n",
      "  3.23581213  2.95890411  0.6409002  30.1223092   8.31506849  2.78571429\n",
      "  6.99608611  5.16144814 20.28180039  3.16927593  0.61643836  3.9109589\n",
      "  4.04011742  3.51369863 17.18688845  2.13796477  7.1223092   1.50293542\n",
      "  0.59001957  2.24363992 19.41585127  7.45988258  6.8816047   0.85518591\n",
      "  0.24266145  3.51565558  1.94618395 19.51565558  5.02739726  3.90508806\n",
      "  8.2925636   9.21428571 19.16046967  1.07925636  6.0890411   1.06457926\n",
      " 19.2553816  19.99902153  5.37866928  0.62524462  1.59882583  4.34931507\n",
      " 20.94227006  1.30821918  3.06751468  2.11056751  5.78571429 20.481409\n",
      "  0.90117417  1.07142857  2.61350294 20.84148728  4.56164384  1.51663405\n",
      "  6.90802348  1.518591   20.31213307  6.21526419  1.59784736  3.1927593\n",
      "  0.6927593   9.50880626 27.23091977  1.1741683   4.78864971  3.20547945\n",
      "  3.52544031  6.14481409 23.64872798  3.28767123  6.68297456  1.88845401\n",
      " 18.57632094  1.98630137  1.18199609  0.37964775 30.97260274  4.15068493]\n"
     ]
    },
    {
     "data": {
      "image/png": "[encoded data removed]",
      "text/plain": [
       "<Figure size 432x288 with 4 Axes>"
      ]
     },
     "metadata": {
      "needs_background": "light"
     },
     "output_type": "display_data"
    },
    {
     "ename": "NameError",
     "evalue": "name 'binary_image2' is not defined",
     "output_type": "error",
     "traceback": [
      "\u001b[1;31m---------------------------------------------------------------------------\u001b[0m",
      "\u001b[1;31mNameError\u001b[0m                                 Traceback (most recent call last)",
      "\u001b[1;32m~\\AppData\\Local\\Temp/ipykernel_12560/3240589214.py\u001b[0m in \u001b[0;36m<module>\u001b[1;34m\u001b[0m\n\u001b[0;32m      3\u001b[0m \u001b[0mevaluator\u001b[0m \u001b[1;33m=\u001b[0m \u001b[0mEvaluator\u001b[0m\u001b[1;33m(\u001b[0m\u001b[0mawa_interface\u001b[0m\u001b[1;33m)\u001b[0m\u001b[1;33m\u001b[0m\u001b[1;33m\u001b[0m\u001b[0m\n\u001b[0;32m      4\u001b[0m \u001b[1;33m\u001b[0m\u001b[0m\n\u001b[1;32m----> 5\u001b[1;33m \u001b[0mresults\u001b[0m \u001b[1;33m=\u001b[0m \u001b[0mevaluator\u001b[0m\u001b[1;33m.\u001b[0m\u001b[0mevaluate_emittance\u001b[0m\u001b[1;33m(\u001b[0m\u001b[1;33m)\u001b[0m\u001b[1;33m\u001b[0m\u001b[1;33m\u001b[0m\u001b[0m\n\u001b[0m",
      "\u001b[1;32m~\\AppData\\Local\\Temp/ipykernel_12560/1920934431.py\u001b[0m in \u001b[0;36mevaluate_emittance\u001b[1;34m(self)\u001b[0m\n\u001b[0;32m     28\u001b[0m                                 average_measurements=False)\n\u001b[0;32m     29\u001b[0m \u001b[1;33m\u001b[0m\u001b[0m\n\u001b[1;32m---> 30\u001b[1;33m         \u001b[0mresults\u001b[0m \u001b[1;33m=\u001b[0m \u001b[0mobservation\u001b[0m\u001b[1;33m.\u001b[0m\u001b[0mmeasure_emittance\u001b[0m\u001b[1;33m(\u001b[0m\u001b[0mmin_size\u001b[0m\u001b[1;33m=\u001b[0m\u001b[1;36m100\u001b[0m\u001b[1;33m,\u001b[0m \u001b[0mmin_intensity\u001b[0m\u001b[1;33m=\u001b[0m\u001b[1;36m20.0\u001b[0m\u001b[1;33m,\u001b[0m \u001b[0mverbose\u001b[0m\u001b[1;33m=\u001b[0m\u001b[1;32mTrue\u001b[0m\u001b[1;33m)\u001b[0m\u001b[1;33m\u001b[0m\u001b[1;33m\u001b[0m\u001b[0m\n\u001b[0m\u001b[0;32m     31\u001b[0m         \u001b[0mpop_args\u001b[0m \u001b[1;33m=\u001b[0m \u001b[1;33m[\u001b[0m\u001b[1;34m'ellipses'\u001b[0m\u001b[1;33m,\u001b[0m \u001b[1;34m'processed_images'\u001b[0m\u001b[1;33m,\u001b[0m \u001b[1;34m'raw_images'\u001b[0m\u001b[1;33m]\u001b[0m\u001b[1;33m\u001b[0m\u001b[1;33m\u001b[0m\u001b[0m\n\u001b[0;32m     32\u001b[0m         \u001b[1;32mfor\u001b[0m \u001b[0mele\u001b[0m \u001b[1;32min\u001b[0m \u001b[0mpop_args\u001b[0m\u001b[1;33m:\u001b[0m\u001b[1;33m\u001b[0m\u001b[1;33m\u001b[0m\u001b[0m\n",
      "\u001b[1;32me:\\AWASoftware\\xopt\\xopt\\awa_control\\observations\\emittance.py\u001b[0m in \u001b[0;36mmeasure_emittance\u001b[1;34m(self, **kwargs)\u001b[0m\n\u001b[0;32m     59\u001b[0m     \u001b[1;32mdef\u001b[0m \u001b[0mmeasure_emittance\u001b[0m\u001b[1;33m(\u001b[0m\u001b[0mself\u001b[0m\u001b[1;33m,\u001b[0m \u001b[1;33m**\u001b[0m\u001b[0mkwargs\u001b[0m\u001b[1;33m)\u001b[0m\u001b[1;33m:\u001b[0m\u001b[1;33m\u001b[0m\u001b[1;33m\u001b[0m\u001b[0m\n\u001b[0;32m     60\u001b[0m         \u001b[1;31m# do screen measurements\u001b[0m\u001b[1;33m\u001b[0m\u001b[1;33m\u001b[0m\u001b[0m\n\u001b[1;32m---> 61\u001b[1;33m         \u001b[0mscreen_measurements\u001b[0m \u001b[1;33m=\u001b[0m \u001b[0mself\u001b[0m\u001b[1;33m.\u001b[0m\u001b[0mmeasure_screen\u001b[0m\u001b[1;33m(\u001b[0m\u001b[1;33m**\u001b[0m\u001b[0mkwargs\u001b[0m\u001b[1;33m)\u001b[0m\u001b[1;33m\u001b[0m\u001b[1;33m\u001b[0m\u001b[0m\n\u001b[0m\u001b[0;32m     62\u001b[0m         \u001b[0mn_measurements\u001b[0m \u001b[1;33m=\u001b[0m \u001b[0mlen\u001b[0m\u001b[1;33m(\u001b[0m\u001b[0mscreen_measurements\u001b[0m\u001b[1;33m[\u001b[0m\u001b[1;34m'processed_images'\u001b[0m\u001b[1;33m]\u001b[0m\u001b[1;33m)\u001b[0m\u001b[1;33m\u001b[0m\u001b[1;33m\u001b[0m\u001b[0m\n\u001b[0;32m     63\u001b[0m \u001b[1;33m\u001b[0m\u001b[0m\n",
      "\u001b[1;32me:\\AWASoftware\\xopt\\xopt\\awa_control\\observations\\yag_screen.py\u001b[0m in \u001b[0;36mmeasure_screen\u001b[1;34m(self, **kwargs)\u001b[0m\n\u001b[0;32m    140\u001b[0m \u001b[1;33m\u001b[0m\u001b[0m\n\u001b[0;32m    141\u001b[0m         \"\"\"\n\u001b[1;32m--> 142\u001b[1;33m         \u001b[0moutputs\u001b[0m \u001b[1;33m=\u001b[0m \u001b[0mself\u001b[0m\u001b[1;33m.\u001b[0m\u001b[0m_get_images\u001b[0m\u001b[1;33m(\u001b[0m\u001b[1;33m**\u001b[0m\u001b[0mkwargs\u001b[0m\u001b[1;33m)\u001b[0m\u001b[1;33m\u001b[0m\u001b[1;33m\u001b[0m\u001b[0m\n\u001b[0m\u001b[0;32m    143\u001b[0m \u001b[1;33m\u001b[0m\u001b[0m\n\u001b[0;32m    144\u001b[0m         \u001b[1;32mif\u001b[0m \u001b[0mself\u001b[0m\u001b[1;33m.\u001b[0m\u001b[0msave_image_flag\u001b[0m\u001b[1;33m:\u001b[0m\u001b[1;33m\u001b[0m\u001b[1;33m\u001b[0m\u001b[0m\n",
      "\u001b[1;32me:\\AWASoftware\\xopt\\xopt\\awa_control\\observations\\yag_screen.py\u001b[0m in \u001b[0;36m_get_images\u001b[1;34m(self, **kwargs)\u001b[0m\n\u001b[0;32m    109\u001b[0m \u001b[1;33m\u001b[0m\u001b[0m\n\u001b[0;32m    110\u001b[0m         \u001b[1;32mfor\u001b[0m \u001b[0mi\u001b[0m \u001b[1;32min\u001b[0m \u001b[0mrange\u001b[0m\u001b[1;33m(\u001b[0m\u001b[0mlen\u001b[0m\u001b[1;33m(\u001b[0m\u001b[0mroi_images\u001b[0m\u001b[1;33m)\u001b[0m\u001b[1;33m)\u001b[0m\u001b[1;33m:\u001b[0m\u001b[1;33m\u001b[0m\u001b[1;33m\u001b[0m\u001b[0m\n\u001b[1;32m--> 111\u001b[1;33m             processed_image_data = image_processing.process_and_fit(roi_images[i],\n\u001b[0m\u001b[0;32m    112\u001b[0m                                                                     **kwargs)\n\u001b[0;32m    113\u001b[0m \u001b[1;33m\u001b[0m\u001b[0m\n",
      "\u001b[1;32me:\\AWASoftware\\xopt\\xopt\\awa_control\\observations\\image_processing.py\u001b[0m in \u001b[0;36mprocess_and_fit\u001b[1;34m(image, min_size, min_intensity, verbose)\u001b[0m\n\u001b[0;32m     67\u001b[0m \u001b[1;33m\u001b[0m\u001b[0m\n\u001b[0;32m     68\u001b[0m     \u001b[1;31m# find contours\u001b[0m\u001b[1;33m\u001b[0m\u001b[1;33m\u001b[0m\u001b[0m\n\u001b[1;32m---> 69\u001b[1;33m     cnts, huers = cv2.findContours(binary_image2, cv2.RETR_EXTERNAL,\n\u001b[0m\u001b[0;32m     70\u001b[0m                                    cv2.CHAIN_APPROX_SIMPLE)[-2:]\n\u001b[0;32m     71\u001b[0m \u001b[1;33m\u001b[0m\u001b[0m\n",
      "\u001b[1;31mNameError\u001b[0m: name 'binary_image2' is not defined"
     ]
    }
   ],
   "source": [
    "# setup objects\n",
    "awa_interface = awa_interface.AWAInterface(use_frame_grabber=False, testing=False)\n",
    "evaluator = Evaluator(awa_interface)\n",
    "\n",
    "results = evaluator.evaluate_emittance()"
   ]
  },
  {
   "cell_type": "code",
   "execution_count": null,
   "id": "31b5d07d",
   "metadata": {},
   "outputs": [],
   "source": [
    "print(results)"
   ]
  },
  {
   "cell_type": "code",
   "execution_count": null,
   "id": "846e613e",
   "metadata": {},
   "outputs": [],
   "source": []
  }
 ],
 "metadata": {
  "kernelspec": {
   "display_name": "xopt",
   "language": "python",
   "name": "xopt"
  },
  "language_info": {
   "codemirror_mode": {
    "name": "ipython",
    "version": 3
   },
   "file_extension": ".py",
   "mimetype": "text/x-python",
   "name": "python",
   "nbconvert_exporter": "python",
   "pygments_lexer": "ipython3",
   "version": "3.9.7"
  }
 },
 "nbformat": 4,
 "nbformat_minor": 5
}
